{
  "nbformat": 4,
  "nbformat_minor": 0,
  "metadata": {
    "colab": {
      "provenance": [],
      "authorship_tag": "ABX9TyMR9495L6Mgc7DqMS6pQv1a",
      "include_colab_link": true
    },
    "kernelspec": {
      "name": "python3",
      "display_name": "Python 3"
    },
    "language_info": {
      "name": "python"
    }
  },
  "cells": [
    {
      "cell_type": "markdown",
      "metadata": {
        "id": "view-in-github",
        "colab_type": "text"
      },
      "source": [
        "<a href=\"https://colab.research.google.com/github/RosdianaPutri01/Praktikum_AI_Workflow/blob/main/Konsultasi.ipynb\" target=\"_parent\"><img src=\"https://colab.research.google.com/assets/colab-badge.svg\" alt=\"Open In Colab\"/></a>"
      ]
    },
    {
      "cell_type": "code",
      "execution_count": 11,
      "metadata": {
        "colab": {
          "base_uri": "https://localhost:8080/"
        },
        "id": "xt6eU6cqLVtq",
        "outputId": "8d8ddecb-46db-4951-e354-17bcc27c2737"
      },
      "outputs": [
        {
          "output_type": "stream",
          "name": "stdout",
          "text": [
            "Berikut adalah penelusuran Depth First (dimulai dari node 2):\n",
            "2 0 1 3 "
          ]
        }
      ],
      "source": [
        "class Graph:\n",
        "    def __init__(self):\n",
        "        self.graph = {}\n",
        "\n",
        "    def addEdge(self, u, v):\n",
        "        if u not in self.graph:\n",
        "            self.graph[u] = []\n",
        "        if v not in self.graph:\n",
        "            self.graph[v] = []\n",
        "        self.graph[u].append(v)\n",
        "\n",
        "    def DFS(self, start):\n",
        "        visited = set()  # Untuk melacak node yang sudah dikunjungi\n",
        "\n",
        "        def dfs_util(node):\n",
        "            print(node, end=\" \")  # Menampilkan node yang sedang dikunjungi\n",
        "            visited.add(node)  # Tandai node sebagai sudah dikunjungi\n",
        "\n",
        "            for neighbor in self.graph.get(node, []):\n",
        "                if neighbor not in visited:\n",
        "                    dfs_util(neighbor)\n",
        "\n",
        "        dfs_util(start)\n",
        "\n",
        "# Membuat objek graf dan menambahkan sisi\n",
        "g = Graph()\n",
        "g.addEdge(0, 1)\n",
        "g.addEdge(0, 2)\n",
        "g.addEdge(1, 2)\n",
        "g.addEdge(2, 0)\n",
        "g.addEdge(2, 3)\n",
        "g.addEdge(3, 3)\n",
        "\n",
        "# Menampilkan penelusuran DFS dimulai dari node 2\n",
        "print(\"Berikut adalah penelusuran Depth First (dimulai dari node 2):\")\n",
        "g.DFS(2)\n"
      ]
    },
    {
      "cell_type": "code",
      "source": [
        "import collections\n",
        "\n",
        "# BFS algorithm\n",
        "def bfs(graph, root):\n",
        "    visited = set()\n",
        "    queue = collections.deque([root])\n",
        "    visited.add(root)\n",
        "\n",
        "    while queue:\n",
        "        # Dequeue a vertex from queue\n",
        "        vertex = queue.popleft()\n",
        "        print(vertex, end=\" \")\n",
        "\n",
        "        # If not visited, mark it as visited, and enqueue it\n",
        "        for neighbour in graph.get(vertex, []):\n",
        "            if neighbour not in visited:\n",
        "                visited.add(neighbour)\n",
        "                queue.append(neighbour)\n",
        "\n",
        "if __name__ == \"__main__\":\n",
        "    graph = {0: [1, 2], 1: [2], 2: [3], 3: [1, 2]}\n",
        "    print(\"Following is Breadth First Traversal:\")\n",
        "    bfs(graph, 0)\n"
      ],
      "metadata": {
        "colab": {
          "base_uri": "https://localhost:8080/"
        },
        "id": "cJS2eCLEQxuw",
        "outputId": "0cfe5a20-8336-4556-8a6b-2c604812f16c"
      },
      "execution_count": 12,
      "outputs": [
        {
          "output_type": "stream",
          "name": "stdout",
          "text": [
            "Following is Breadth First Traversal:\n",
            "0 1 2 3 "
          ]
        }
      ]
    },
    {
      "cell_type": "code",
      "source": [
        "# Implementasi Uniform Cost Search (UCS) di Python\n",
        "\n",
        "import heapq\n",
        "\n",
        "def uniform_cost_search(goal, start):\n",
        "    # Menyimpan graph dan biaya\n",
        "    global graph, cost\n",
        "\n",
        "    # Inisialisasi jawaban dengan nilai besar\n",
        "    answer = [float('inf')] * len(goal)\n",
        "\n",
        "    # Priority queue (heap)\n",
        "    queue = []\n",
        "\n",
        "    # Memasukkan node awal dengan biaya 0 ke dalam queue\n",
        "    heapq.heappush(queue, (0, start))\n",
        "\n",
        "    # Menyimpan node yang sudah dikunjungi\n",
        "    visited = set()\n",
        "\n",
        "    # Menghitung jumlah goal yang tercapai\n",
        "    count = 0\n",
        "\n",
        "    # Loop sampai queue kosong\n",
        "    while queue:\n",
        "        # Mengambil node dengan biaya terkecil\n",
        "        g_cost, node = heapq.heappop(queue)\n",
        "\n",
        "        # Jika node sudah pernah dikunjungi, lewati\n",
        "        if node in visited:\n",
        "            continue\n",
        "\n",
        "        # Tandai node sebagai dikunjungi\n",
        "        visited.add(node)\n",
        "\n",
        "        # Jika node tujuan ditemukan\n",
        "        if node in goal:\n",
        "            index = goal.index(node)\n",
        "\n",
        "            # Jika ini adalah pertama kali menemukan goal\n",
        "            if answer[index] == float('inf'):\n",
        "                count += 1\n",
        "\n",
        "            # Perbarui jawaban jika biaya lebih kecil\n",
        "            if answer[index] > g_cost:\n",
        "                answer[index] = g_cost\n",
        "\n",
        "            # Jika semua goal tercapai, keluar dari loop\n",
        "            if count == len(goal):\n",
        "                return answer\n",
        "\n",
        "        # Mengeksplorasi tetangga\n",
        "        for neighbor in graph[node]:\n",
        "            if neighbor not in visited:\n",
        "                heapq.heappush(queue, (g_cost + cost[(node, neighbor)], neighbor))\n",
        "\n",
        "    return answer\n",
        "\n",
        "# Main function\n",
        "if __name__ == \"__main__\":\n",
        "    # Membuat graph dan biaya\n",
        "    graph, cost = {}, {}\n",
        "\n",
        "    for i in range(7):\n",
        "        graph[i] = []\n",
        "\n",
        "    # Menambahkan edge dan biaya antar node\n",
        "    graph[0].append(1)\n",
        "    graph[0].append(3)\n",
        "    graph[1].append(6)\n",
        "    graph[3].append(6)\n",
        "    graph[3].append(4)\n",
        "    graph[4].append(5)\n",
        "    graph[2].append(1)\n",
        "    graph[5].append(2)\n",
        "    graph[6].append(4)\n",
        "\n",
        "    cost[(0, 1)] = 2\n",
        "    cost[(0, 3)] = 5\n",
        "    cost[(1, 6)] = 1\n",
        "    cost[(3, 6)] = 6\n",
        "    cost[(3, 4)] = 2\n",
        "    cost[(2, 1)] = 4\n",
        "    cost[(4, 5)] = 3\n",
        "    cost[(5, 2)] = 6\n",
        "    cost[(6, 4)] = 7\n",
        "\n",
        "    # Goal state (tujuan)\n",
        "    goal = [6]\n",
        "\n",
        "    # Menjalankan UCS dari node awal 0\n",
        "    answer = uniform_cost_search(goal, 0)\n",
        "\n",
        "    # Mencetak hasil\n",
        "    print(\"Minimum cost dari 0 ke 6 adalah:\", answer[0])\n"
      ],
      "metadata": {
        "colab": {
          "base_uri": "https://localhost:8080/"
        },
        "id": "5oQPnC2zTtBT",
        "outputId": "fa98b328-2a96-49b1-abac-1153375611b5"
      },
      "execution_count": 15,
      "outputs": [
        {
          "output_type": "stream",
          "name": "stdout",
          "text": [
            "Minimum cost dari 0 ke 6 adalah: 3\n"
          ]
        }
      ]
    }
  ]
}